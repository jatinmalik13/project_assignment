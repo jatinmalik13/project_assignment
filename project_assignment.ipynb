{
 "cells": [
  {
   "cell_type": "markdown",
   "id": "77c9d2cb-d6c2-4d1d-b936-e1317a3987a9",
   "metadata": {},
   "source": [
    "# from flask import Flask, render_template, request\n",
    "import requests\n",
    "from bs4 import BeautifulSoup\n",
    "\n",
    "app = Flask(__name__)\n",
    "\n",
    "def scrape_amazon(query):\n",
    "    headers = {\"User-Agent\": \"Mozilla/5.0\"}\n",
    "    url = f\"https://www.amazon.com/s?k={query}\"\n",
    "    response = requests.get(url, headers=headers)\n",
    "    soup = BeautifulSoup(response.text, 'html.parser')\n",
    "    products = []\n",
    "    for item in soup.select('.s-main-slot .s-result-item'):\n",
    "        title = item.select_one('h2').get_text() if item.select_one('h2') else 'No title'\n",
    "        link = item.select_one('a')['href'] if item.select_one('a') else 'No link'\n",
    "        products.append({'title': title, 'link': 'https://www.amazon.com' + link})\n",
    "    return products\n",
    "\n",
    "def scrape_youtube(query):\n",
    "    headers = {\"User-Agent\": \"Mozilla/5.0\"}\n",
    "    url = f\"https://www.youtube.com/results?search_query={query}\"\n",
    "    response = requests.get(url, headers=headers)\n",
    "    soup = BeautifulSoup(response.text, 'html.parser')\n",
    "    videos = []\n",
    "    for item in soup.select('a[href^=\"/watch\"]'):\n",
    "        title = item.get('title')\n",
    "        link = 'https://www.youtube.com' + item.get('href')\n",
    "        videos.append({'title': title, 'link': link})\n",
    "    return videos\n",
    "\n",
    "@app.route('/', methods=['GET', 'POST'])\n",
    "def index():\n",
    "    amazon_results = []\n",
    "    youtube_results = []\n",
    "    if request.method == 'POST':\n",
    "        query = request.form.get('query')\n",
    "        amazon_results = scrape_amazon(query)\n",
    "        youtube_results = scrape_youtube(query)\n",
    "    return render_template('index.html', amazon_results=amazon_results, youtube_results=youtube_results)\n",
    "\n",
    "if __name__ == '__main__':\n",
    "    app.run(debug=True)\n"
   ]
  },
  {
   "cell_type": "code",
   "execution_count": null,
   "id": "4c3df2df-5f2e-4b87-a853-27a521b927b5",
   "metadata": {},
   "outputs": [],
   "source": []
  },
  {
   "cell_type": "code",
   "execution_count": 4,
   "id": "645f10ad-417b-48f1-8fff-ff8c44073c02",
   "metadata": {},
   "outputs": [
    {
     "data": {
      "text/plain": [
       "\"'q2\""
      ]
     },
     "execution_count": 4,
     "metadata": {},
     "output_type": "execute_result"
    }
   ],
   "source": [
    "                    ''''q2'''"
   ]
  },
  {
   "cell_type": "markdown",
   "id": "0a161318-3821-4360-8e58-9f182d8b1b53",
   "metadata": {},
   "source": [
    "# from flask import Flask, render_template, request\n",
    "import requests\n",
    "\n",
    "app = Flask(__name__)\n",
    "\n",
    "API_KEY = 'your_openweathermap_api_key'  # Replace with your actual API key\n",
    "BASE_URL = 'http://api.openweathermap.org/data/2.5/weather'\n",
    "\n",
    "def get_weather(city):\n",
    "    params = {\n",
    "        'q': city,\n",
    "        'appid': API_KEY,\n",
    "        'units': 'metric'  # Use 'imperial' for Fahrenheit\n",
    "    }\n",
    "    response = requests.get(BASE_URL, params=params)\n",
    "    data = response.json()\n",
    "    if data.get('cod') != 200:\n",
    "        return None\n",
    "    weather = {\n",
    "        'city': data['name'],\n",
    "        'description': data['weather'][0]['description'],\n",
    "        'temperature': data['main']['temp'],\n",
    "        'humidity': data['main']['humidity'],\n",
    "        'pressure': data['main']['pressure']\n",
    "    }\n",
    "    return weather\n",
    "\n",
    "@app.route('/', methods=['GET', 'POST'])\n",
    "def index():\n",
    "    weather = None\n",
    "    if request.method == 'POST':\n",
    "        city = request.form.get('city')\n",
    "        weather = get_weather(city)\n",
    "    return render_template('index.html', weather=weather)\n",
    "\n",
    "if __name__ == '__main__':\n",
    "    app.run(debug=True)\n",
    "\n",
    "\n",
    "\n",
    "\n"
   ]
  },
  {
   "cell_type": "markdown",
   "id": "223cb099-4150-40ac-bb2e-ba4383e0c493",
   "metadata": {},
   "source": []
  },
  {
   "cell_type": "code",
   "execution_count": 10,
   "id": "a325f8c9-deb6-4b77-84f9-1268b5d0960e",
   "metadata": {},
   "outputs": [
    {
     "data": {
      "text/plain": [
       "'q3'"
      ]
     },
     "execution_count": 10,
     "metadata": {},
     "output_type": "execute_result"
    }
   ],
   "source": [
    "                    '''q3'''"
   ]
  },
  {
   "cell_type": "markdown",
   "id": "fecb1354-a972-438b-afbb-d6bb53daf376",
   "metadata": {},
   "source": [
    "# from flask import Flask, redirect, url_for, session, request, render_template\n",
    "from authlib.integrations.flask_client import OAuth\n",
    "import os\n",
    "\n",
    "app = Flask(__name__)\n",
    "app.secret_key = os.environ.get('SECRET_KEY', 'your_secret_key')\n",
    "app.config['SESSION_COOKIE_NAME'] = 'my_flask_session'\n",
    "\n",
    "# OAuth configuration\n",
    "oauth = OAuth(app)\n",
    "\n",
    "# Google OAuth2 setup\n",
    "google = oauth.register(\n",
    "    name='google',\n",
    "    client_id=os.environ.get('GOOGLE_CLIENT_ID'),\n",
    "    client_secret=os.environ.get('GOOGLE_CLIENT_SECRET'),\n",
    "    authorize_url='https://accounts.google.com/o/oauth2/auth',\n",
    "    authorize_params=None,\n",
    "    access_token_url='https://accounts.google.com/o/oauth2/token',\n",
    "    access_token_params=None,\n",
    "    refresh_token_url=None,\n",
    "    redirect_uri='http://localhost:5000/auth/google/callback',\n",
    "    client_kwargs={'scope': 'openid profile email'},\n",
    ")\n",
    "\n",
    "# Facebook OAuth2 setup\n",
    "facebook = oauth.register(\n",
    "    name='facebook',\n",
    "    client_id=os.environ.get('FACEBOOK_CLIENT_ID'),\n",
    "    client_secret=os.environ.get('FACEBOOK_CLIENT_SECRET'),\n",
    "    authorize_url='https://www.facebook.com/dialog/oauth',\n",
    "    authorize_params=None,\n",
    "    access_token_url='https://graph.facebook.com/oauth/access_token',\n",
    "    access_token_params=None,\n",
    "    refresh_token_url=None,\n",
    "    redirect_uri='http://localhost:5000/auth/facebook/callback',\n",
    "    client_kwargs={'scope': 'email'},\n",
    ")\n",
    "\n",
    "@app.route('/')\n",
    "def index():\n",
    "    user = session.get('user')\n",
    "    return render_template('index.html', user=user)\n",
    "\n",
    "@app.route('/login/google')\n",
    "def login_google():\n",
    "    redirect_uri = url_for('auth_google', _external=True)\n",
    "    return google.authorize_redirect(redirect_uri)\n",
    "\n",
    "@app.route('/auth/google/callback')\n",
    "def auth_google():\n",
    "    token = google.authorize_access_token()\n",
    "    user_info = google.parse_id_token(token)\n",
    "    session['user'] = user_info\n",
    "    return redirect('/')\n",
    "\n",
    "@app.route('/login/facebook')\n",
    "def login_facebook():\n",
    "    redirect_uri = url_for('auth_facebook', _external=True)\n",
    "    return facebook.authorize_redirect(redirect_uri)\n",
    "\n",
    "@app.route('/auth/facebook/callback')\n",
    "def auth_facebook():\n",
    "    token = facebook.authorize_access_token()\n",
    "    user_info = facebook.parse_id_token(token)\n",
    "    session['user'] = user_info\n",
    "    return redirect('/')\n",
    "\n",
    "@app.route('/logout')\n",
    "def logout():\n",
    "    session.pop('user', None)\n",
    "    return redirect('/')\n",
    "\n",
    "if __name__ == '__main__':\n",
    "    app.run(debug=True)\n",
    "\n"
   ]
  },
  {
   "cell_type": "code",
   "execution_count": null,
   "id": "d9af8ed9-e546-4e11-9f67-4c3001fd7f51",
   "metadata": {},
   "outputs": [],
   "source": []
  },
  {
   "cell_type": "code",
   "execution_count": 13,
   "id": "0a5d6b03-7260-4f7d-b17e-cdc20ef0d686",
   "metadata": {},
   "outputs": [
    {
     "data": {
      "text/plain": [
       "'q4'"
      ]
     },
     "execution_count": 13,
     "metadata": {},
     "output_type": "execute_result"
    }
   ],
   "source": [
    "                    '''q4'''"
   ]
  },
  {
   "cell_type": "markdown",
   "id": "7e352dc4-bb4e-4dc1-8458-1dbda1501166",
   "metadata": {},
   "source": [
    "# from flask import Flask, render_template, request\n",
    "\n",
    "app = Flask(__name__)\n",
    "\n",
    "# Sample content data\n",
    "CONTENT = [\n",
    "    {'id': 1, 'title': 'Introduction to Python', 'category': 'Programming'},\n",
    "    {'id': 2, 'title': 'Advanced Python Techniques', 'category': 'Programming'},\n",
    "    {'id': 3, 'title': 'Understanding Machine Learning', 'category': 'Data Science'},\n",
    "    {'id': 4, 'title': 'Deep Learning with TensorFlow', 'category': 'Data Science'},\n",
    "    {'id': 5, 'title': 'HTML & CSS Basics', 'category': 'Web Development'},\n",
    "    {'id': 6, 'title': 'JavaScript Essentials', 'category': 'Web Development'},\n",
    "]\n",
    "\n",
    "def get_recommendations(preferences):\n",
    "    # Simple recommendation logic based on category preferences\n",
    "    recommended = [content for content in CONTENT if content['category'] in preferences]\n",
    "    return recommended\n",
    "\n",
    "@app.route('/', methods=['GET', 'POST'])\n",
    "def index():\n",
    "    recommendations = []\n",
    "    if request.method == 'POST':\n",
    "        preferences = request.form.getlist('preferences')\n",
    "        recommendations = get_recommendations(preferences)\n",
    "    return render_template('index.html', recommendations=recommendations)\n",
    "\n",
    "if __name__ == '__main__':\n",
    "    app.run(debug=True)\n"
   ]
  },
  {
   "cell_type": "code",
   "execution_count": null,
   "id": "cb5d9c07-64d7-4d24-8240-1f0565d8f459",
   "metadata": {},
   "outputs": [],
   "source": []
  }
 ],
 "metadata": {
  "kernelspec": {
   "display_name": "Python 3 (ipykernel)",
   "language": "python",
   "name": "python3"
  },
  "language_info": {
   "codemirror_mode": {
    "name": "ipython",
    "version": 3
   },
   "file_extension": ".py",
   "mimetype": "text/x-python",
   "name": "python",
   "nbconvert_exporter": "python",
   "pygments_lexer": "ipython3",
   "version": "3.12.0"
  }
 },
 "nbformat": 4,
 "nbformat_minor": 5
}
